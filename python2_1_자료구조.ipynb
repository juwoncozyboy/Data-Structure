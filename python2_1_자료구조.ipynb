{
  "nbformat": 4,
  "nbformat_minor": 0,
  "metadata": {
    "colab": {
      "provenance": [],
      "authorship_tag": "ABX9TyNpZsAqNgP4YdaEngF+pRYF",
      "include_colab_link": true
    },
    "kernelspec": {
      "name": "python3",
      "display_name": "Python 3"
    },
    "language_info": {
      "name": "python"
    }
  },
  "cells": [
    {
      "cell_type": "markdown",
      "metadata": {
        "id": "view-in-github",
        "colab_type": "text"
      },
      "source": [
        "<a href=\"https://colab.research.google.com/github/juwoncozyboy/Data-Structure/blob/main/python2_1_%EC%9E%90%EB%A3%8C%EA%B5%AC%EC%A1%B0.ipynb\" target=\"_parent\"><img src=\"https://colab.research.google.com/assets/colab-badge.svg\" alt=\"Open In Colab\"/></a>"
      ]
    },
    {
      "cell_type": "markdown",
      "source": [
        "\n",
        "\n",
        "\n"
      ],
      "metadata": {
        "id": "r_Dfy28bBqGy"
      }
    },
    {
      "cell_type": "markdown",
      "source": [
        "#1. 자료구조와 알고리즘\n",
        "## 1.1 자료구조란?\n",
        "* data structure\n",
        "* 데이터를 어떻게 저장하고, 어떻게 꺼낼지에 대한 구조적인 정의\n",
        " * 값 1개만 저장하자\n",
        " * 값을 저장하려면 대입연산자 앞에다 변수, 대입연산자 뒤에다 저장할 값을 쓰자\n",
        "* 선형자료구조\n",
        " * 여러개의 값을 저장하고 싶은데 앞 뒤의 관계가 1:1이 되도록 저장하자\n",
        " * 리스트,스택, 큐...\n",
        "* 비선형구조\n",
        " *여러개의 값을 저장하고 싶은데 앞 뒤 관계가 1:n 혹은 n:m이 되도록 저장하자"
      ],
      "metadata": {
        "id": "QYi8ldgLCRIa"
      }
    },
    {
      "cell_type": "markdown",
      "source": [
        "# 2. 함수\n",
        "* 코드를 재사용 하기 위해서 사용한다(100줄 짜리 코드를 일일이 필요할때마다 작성하는 것이 아니라 a라는 이름으로 만들어 놓고, 나중에 a ()사용하게되면 알아서 100줄이 실행 되도록)\n",
        "\n",
        "##2.1 함수에서 중요한 세가지\n",
        "1. 인자(argument, 함수를 사용할때 소괄호 안쪽에 써주는 값들)의 갯수와 타입\n",
        "2. 함수의 동작\n",
        "3. 함수 사용 결과 값이 무슨 타입일까"
      ],
      "metadata": {
        "id": "b2vhysA9FSfa"
      }
    },
    {
      "cell_type": "markdown",
      "source": [],
      "metadata": {
        "id": "RVD4r_k5GGIu"
      }
    },
    {
      "cell_type": "code",
      "source": [
        "# 매개변수로 함수를 사용할때 인자의 갯수를 정의하고\n",
        "# : 안의 코드로(들여쓰기 되어있는 코드)함수의 동작을 정의하고\n",
        "# 함수 사용 결과가 어떤 값인지 정의하지 않으면 기본적으로 none이라는 값이 되어버린다\n",
        "#그렇다면 함수 ㅅ용결과가 어떤 값인지 어떻게 정의할까?---> return을 사용한다\n",
        "def a(pram,pram2):\n",
        " print('a 함수가 실행되었습니다')\n",
        " print(f'pram 변수에 들어있는 값은 {pram}입니다')\n",
        " print('지금도 a 함수가 실행중입니다')\n",
        "\n",
        "name='김주원'\n",
        "\n",
        "res = a(10,20)\n",
        "\n",
        "res = 'none'\n",
        "print(res)\n",
        "\n",
        "a(10,20)\n",
        "print('--------------')\n",
        "a('김주원',100)"
      ],
      "metadata": {
        "colab": {
          "base_uri": "https://localhost:8080/"
        },
        "id": "z6-YdYHhGbEJ",
        "outputId": "16986f49-5301-4562-b479-10760f7c69ed"
      },
      "execution_count": null,
      "outputs": [
        {
          "output_type": "stream",
          "name": "stdout",
          "text": [
            "a 함수가 실행되었습니다\n",
            "pram 변수에 들어있는 값은 10입니다\n",
            "지금도 a 함수가 실행중입니다\n",
            "none\n",
            "a 함수가 실행되었습니다\n",
            "pram 변수에 들어있는 값은 10입니다\n",
            "지금도 a 함수가 실행중입니다\n",
            "--------------\n",
            "a 함수가 실행되었습니다\n",
            "pram 변수에 들어있는 값은 김주원입니다\n",
            "지금도 a 함수가 실행중입니다\n"
          ]
        }
      ]
    },
    {
      "cell_type": "markdown",
      "source": [],
      "metadata": {
        "id": "Bxd_S5VDBnQa"
      }
    },
    {
      "cell_type": "code",
      "source": [
        "def b(num1, num2):\n",
        "  print(f'첫번째 매개변수에는 {num1}가 들어있어요')\n",
        "  print(f'두번째 매개변수에는 {num2}가 들어있어요')\n",
        "  print(f'두 수를 더한 값은 {num1+num2} 입니다')\n",
        "  return num1+num2\n",
        "res = b(10,20)\n",
        "print(res)\n",
        "print(b(50,100))"
      ],
      "metadata": {
        "colab": {
          "base_uri": "https://localhost:8080/"
        },
        "id": "MgJ-inVCHKZq",
        "outputId": "bb3918cc-183f-422f-f1e5-7cbf49c13883"
      },
      "execution_count": null,
      "outputs": [
        {
          "output_type": "stream",
          "name": "stdout",
          "text": [
            "첫번째 매개변수에는 10가 들어있어요\n",
            "두번째 매개변수에는 20가 들어있어요\n",
            "두 수를 더한 값은 30 입니다\n",
            "30\n",
            "첫번째 매개변수에는 50가 들어있어요\n",
            "두번째 매개변수에는 100가 들어있어요\n",
            "두 수를 더한 값은 150 입니다\n",
            "150\n"
          ]
        }
      ]
    },
    {
      "cell_type": "markdown",
      "source": [
        "##2.2 기본매개변수\n",
        "* 기본 매개변수는 반드시뒤에서 부터 차례로 작성해야 한다\n",
        "\n",
        "\n",
        "\n",
        "```\n",
        "def f1(a, b = 기본값, c = 기본값):\n",
        "\n",
        "```\n",
        "* 사용할 때 기본 매개변수로 지정된 곳에는 인자값을 넘겨줄 필요가 없다\n",
        "\n",
        "\n",
        "```\n",
        "# a에는 10이 대입 b,c에는 기본값이 대입됨\n",
        "f1(10)\n",
        "```\n",
        "* b와 c 기본 매개 변수에는 순서로 인자를 대입할 수 있다\n",
        "\n",
        "\n",
        "\n",
        "```\n",
        "# a에는 10이 대입 b에는 15,c에는 기본값이 대입됨\n",
        "f1(10,15)\n",
        "```\n",
        "\n",
        "\n",
        "```\n",
        "# a에는 10이 대입 b에는 기본값 c에는 15\n",
        "f1(10,c=15)\n",
        "```\n",
        "\n",
        "\n",
        "\n",
        "\n",
        "\n",
        "\n",
        "\n"
      ],
      "metadata": {
        "id": "5_huK-Kw2lTZ"
      }
    },
    {
      "cell_type": "code",
      "source": [
        "def getTotal(n=0,m = 100):\n",
        "  total = 0\n",
        "  for i in range(n, m+1):\n",
        "    total +=i\n",
        "\n",
        "  return total\n"
      ],
      "metadata": {
        "id": "HWVPtOqGPvtJ"
      },
      "execution_count": null,
      "outputs": []
    },
    {
      "cell_type": "code",
      "source": [
        "res = getTotal()\n",
        "print(f'총합:{res}')"
      ],
      "metadata": {
        "colab": {
          "base_uri": "https://localhost:8080/"
        },
        "id": "nlRssHnIyy5E",
        "outputId": "e421f093-b48c-47c5-f23f-215e002a0bd4"
      },
      "execution_count": null,
      "outputs": [
        {
          "output_type": "stream",
          "name": "stdout",
          "text": [
            "총합:5050\n"
          ]
        }
      ]
    },
    {
      "cell_type": "code",
      "source": [
        "n= int(input('더하기 시작할 숫자 :'))\n",
        "m= int(input('더하기 끝낼 숫자 :'))\n",
        "\n",
        "getTotal(n,m)\n"
      ],
      "metadata": {
        "colab": {
          "base_uri": "https://localhost:8080/"
        },
        "id": "bCwXTlGpWX8t",
        "outputId": "b7ce0ffe-5e7f-4655-e92d-6bbff784d536"
      },
      "execution_count": null,
      "outputs": [
        {
          "output_type": "stream",
          "name": "stdout",
          "text": [
            "더하기 시작할 숫자 :10\n",
            "더하기 끝낼 숫자 :15\n",
            "결과는 75입니다\n"
          ]
        }
      ]
    },
    {
      "cell_type": "code",
      "source": [
        "res =getTotal(12,15)\n",
        "print(f'총합:{res}')"
      ],
      "metadata": {
        "id": "nqYj2wFsuYRi"
      },
      "execution_count": null,
      "outputs": []
    },
    {
      "cell_type": "code",
      "source": [
        "if getTotal(20,30) % 3 == 0:\n",
        "  print('3의 배수')\n",
        "else:\n",
        "  print('3의 배수 아님..!')\n"
      ],
      "metadata": {
        "colab": {
          "base_uri": "https://localhost:8080/"
        },
        "id": "KeLpKO_4WPnI",
        "outputId": "0cf68fb1-93a4-444f-a17b-87af5c4cc354"
      },
      "execution_count": null,
      "outputs": [
        {
          "output_type": "stream",
          "name": "stdout",
          "text": [
            "3의 배수 아님..!\n"
          ]
        }
      ]
    },
    {
      "cell_type": "markdown",
      "source": [
        "## 2.3 가변매개변수\n",
        "* 함수를 정의할 때 매개변수앞에다가 *를 붙인다\n",
        "* *이 붙은 매개변수는 여러개의 요소가 들어있는 튜플이 들어온다고 생각한다"
      ],
      "metadata": {
        "id": "Y4ewnIRc_BUf"
      }
    },
    {
      "cell_type": "code",
      "source": [
        "def f1(*a,normal, b='ddd', c='ccc'): #(가변, 일반, 기본)#\n",
        "  print(f'매개변수에 들어있는 값은 {a}입니다!')\n",
        "  print(f'매개변수 속 값의 타입:{type(a)}입니다')\n",
        "  for i in a:\n",
        "    print(i)\n",
        "\n",
        "  print(f'b: {b}')\n",
        "  print(f'c: {c}')"
      ],
      "metadata": {
        "id": "pCDWzVk0BeyU"
      },
      "execution_count": null,
      "outputs": []
    },
    {
      "cell_type": "code",
      "source": [
        "f1(10,normal=20,b=30,c=40)"
      ],
      "metadata": {
        "colab": {
          "base_uri": "https://localhost:8080/"
        },
        "id": "4vf08mDSb1FM",
        "outputId": "e6da93ab-c56b-4bcd-8a4c-8968de59143c"
      },
      "execution_count": null,
      "outputs": [
        {
          "output_type": "stream",
          "name": "stdout",
          "text": [
            "매개변수에 들어있는 값은 (10,)입니다!\n",
            "매개변수 속 값의 타입:<class 'tuple'>입니다\n",
            "10\n",
            "b: 30\n",
            "c: 40\n"
          ]
        }
      ]
    },
    {
      "cell_type": "markdown",
      "source": [
        "##2.4 키워드 매개변수\n"
      ],
      "metadata": {
        "id": "Hp_Qyk3tEgsH"
      }
    },
    {
      "cell_type": "code",
      "source": [
        "# dict 를 전달받는다 일반매개변수, 기본매개변수는 **키워드 앞쪽에 사용\n",
        "def f2(normal,b='ddd', c='ccc' **a,):\n",
        "  print(f'매개변수 a: {a}')\n",
        "  print(f'매개변수 normal:{normal}')"
      ],
      "metadata": {
        "id": "J44l5CdkFZWU",
        "colab": {
          "base_uri": "https://localhost:8080/",
          "height": 136
        },
        "outputId": "4c0439e8-2ace-49be-ab5b-34bc6b170e64"
      },
      "execution_count": null,
      "outputs": [
        {
          "output_type": "error",
          "ename": "SyntaxError",
          "evalue": "ignored",
          "traceback": [
            "\u001b[0;36m  File \u001b[0;32m\"<ipython-input-3-39240690bdd7>\"\u001b[0;36m, line \u001b[0;32m2\u001b[0m\n\u001b[0;31m    def f2(normal, **a,b='ddd', c='ccc'):\u001b[0m\n\u001b[0m                       ^\u001b[0m\n\u001b[0;31mSyntaxError\u001b[0m\u001b[0;31m:\u001b[0m invalid syntax\n"
          ]
        }
      ]
    },
    {
      "cell_type": "code",
      "source": [
        "f2(10,ccc=10, aaa=15, b='김주원')"
      ],
      "metadata": {
        "colab": {
          "base_uri": "https://localhost:8080/"
        },
        "id": "uERVlBiEBy1d",
        "outputId": "af316a19-98e4-4709-a1ff-feccbff85569"
      },
      "execution_count": null,
      "outputs": [
        {
          "output_type": "stream",
          "name": "stdout",
          "text": [
            "매개변수 a: {'ccc': 10, 'aaa': 15}\n",
            "매개변수 normal:10\n"
          ]
        }
      ]
    },
    {
      "cell_type": "code",
      "source": [
        "#formatStr('저의 이름은 {name}입니다', name='김주원')\n",
        "#함수사용 결과는 '저의 이름은 배상엽 입니다' 라는 문자열이 return 될 수 있도록\n",
        "#formatStr('만나서 반값습니다 오늘은 {month}월 {day}일 입니다', month=10, day=5)\n",
        "#함수 사용 결과는 '만나서 반갑습니다 오늘은 10월 5일입니다'라는 문자열이 return\n",
        "# target : '저의 이름은 {name}입니다'\n",
        "# kargs = {'name' : '김주원'}\n",
        "def formatStr(target, **kargs):\n",
        "  #res = target.replace('name', kargs['name']) #kargs에는 딕셔녀리로 들어가있음\n",
        "  res = target\n",
        "  for key in kargs:\n",
        "    res = res.replace('{' + key + '}', kargs[key])\n",
        "  return res\n",
        "\n",
        "# 문자열 안에서 특정 문자열을 특정 문자열로 바꾸는 방법"
      ],
      "metadata": {
        "id": "gTERIKujGhx3"
      },
      "execution_count": null,
      "outputs": []
    },
    {
      "cell_type": "code",
      "source": [
        "a = formatStr('내이름은 {myName}이고 동생은 {broName}', myName = '김주원',broName = '김주투' )\n",
        "print(a)"
      ],
      "metadata": {
        "colab": {
          "base_uri": "https://localhost:8080/"
        },
        "id": "H2Yh4tLojIl-",
        "outputId": "644a5d53-b6d6-4d90-d47d-982a1af98bdf"
      },
      "execution_count": null,
      "outputs": [
        {
          "output_type": "stream",
          "name": "stdout",
          "text": [
            "내이름은 김주원이고 동생은 김주투\n"
          ]
        }
      ]
    },
    {
      "cell_type": "markdown",
      "source": [
        "#3. 함수의 return\n",
        "* 함수사용 결과가 어떤 값이 되는지 설명하는 명령어\n",
        "* return이 없다면 함수 사용결과는 기본적으로 None 값이다 (return None)이 생략 되있는것\n",
        "* return값이 명시적으로 쓰여있다면 함수 사용 결과를 return옆에 있는 값으로 치환해서 생각한다\n",
        "\n",
        "## 3.1 함수의 return이 여러개가 될 수 있을까?"
      ],
      "metadata": {
        "id": "1v8w2f6IaUbj"
      }
    },
    {
      "cell_type": "code",
      "source": [
        "def a():\n",
        "  return 100, '김주원', '손흥민', 80 #파이썬만 있는 특징"
      ],
      "metadata": {
        "id": "82DvC3M0bEMf"
      },
      "execution_count": null,
      "outputs": []
    },
    {
      "cell_type": "code",
      "source": [
        "print(a())\n",
        "print(type(a()))\n",
        "\n",
        "v1, v2, v3, v4 = a()\n",
        "for i in a():\n",
        "  print(i)"
      ],
      "metadata": {
        "colab": {
          "base_uri": "https://localhost:8080/"
        },
        "id": "cDlBKD45bJYc",
        "outputId": "2c81c777-1b71-499d-a8af-746504e1647a"
      },
      "execution_count": null,
      "outputs": [
        {
          "output_type": "stream",
          "name": "stdout",
          "text": [
            "(100, '김주원', '손흥민', 80)\n",
            "<class 'tuple'>\n",
            "100\n",
            "김주원\n",
            "손흥민\n",
            "80\n"
          ]
        }
      ]
    },
    {
      "cell_type": "markdown",
      "source": [
        "#4. 변수의 생명주기\n",
        "* 변수를 언제 사용할 수 있을까? (변수가 메모리에 할당되고 메모리에서 해제되는 시기)\n",
        "\n",
        "* 지역변수\n",
        "  * 지역(함수)안에서 생성된 변수, 그 지역 (함수내부)안에서만 사용 가능하다\n",
        "  * 함수가 호출(실행)될때 메모리에 할다외고 함수 호출이 끝나면(실행완료) 메모리에서 해제된다\n",
        "* 전역변수 (global variable)\n",
        "  * 전체 영역에서 사용 가능하며 함수 외부에 만들어진 변수 = 어디에서든 사용 가능하다"
      ],
      "metadata": {
        "id": "s0Pq3UbKgtXW"
      }
    },
    {
      "cell_type": "code",
      "source": [
        "def f():\n",
        "  localV = '변수' #f함수 안에서만 사용가능"
      ],
      "metadata": {
        "id": "tom9eXhJjbFu"
      },
      "execution_count": null,
      "outputs": []
    },
    {
      "cell_type": "code",
      "source": [
        "f()\n",
        "print(localV) #localV는 f라는 함수가 실행될때 메모리에 저장되고, 실행이 다 끝나면 메모리에서 해제되어 사용불가"
      ],
      "metadata": {
        "id": "ioW2HgFdjweT"
      },
      "execution_count": null,
      "outputs": []
    },
    {
      "cell_type": "code",
      "source": [
        "def f():\n",
        "  print(globalV)"
      ],
      "metadata": {
        "id": "uCBuhr3lkyYM"
      },
      "execution_count": null,
      "outputs": []
    },
    {
      "cell_type": "code",
      "source": [
        "globalV = '김주원'\n",
        "f() #자기영역엔 없지만 전체영역에 있는것을 출력"
      ],
      "metadata": {
        "colab": {
          "base_uri": "https://localhost:8080/"
        },
        "id": "TMOhiEuVlNAO",
        "outputId": "279b07f0-a590-46df-fa15-9e9b23e79170"
      },
      "execution_count": null,
      "outputs": [
        {
          "output_type": "stream",
          "name": "stdout",
          "text": [
            "김주원\n"
          ]
        }
      ]
    },
    {
      "cell_type": "code",
      "source": [
        "# 함수 안에다가 만든 변수(매개변수 포함)들은 함수가 실행되는 동안에만 잠시 사용되는\n",
        "#임시 저장공간이므로 변수이름이 마구 겹쳐도 상관이 없게 된다..(같은 영역에서만 겹치지 않으면 된다)\n",
        "def f():\n",
        "  #print(f'f함수 내부에서 출력한 a (a)')\n",
        "  a = 1000 #전역변수를 바꾸는게 아니라 무조건 지역변수를 새롭게 만들어주게 설정\n",
        "  print(f'f함수 내부에서 출력한 두번째 a {a}')\n",
        "def change(a):\n",
        "  a = a + 100"
      ],
      "metadata": {
        "id": "Pie7aSbalk2f"
      },
      "execution_count": null,
      "outputs": []
    },
    {
      "cell_type": "code",
      "source": [
        "a=10\n",
        "change(a) #호출하면 사라짐\n",
        "print(f'전역 에서 출력한 a {a}')\n",
        "f()\n",
        "print(f'f함수 실행 후 출력한 a {a}')"
      ],
      "metadata": {
        "colab": {
          "base_uri": "https://localhost:8080/"
        },
        "id": "lfE6LmNBl6xF",
        "outputId": "f7b82ca8-201f-4fe9-ad91-1a58d04a210f"
      },
      "execution_count": null,
      "outputs": [
        {
          "output_type": "stream",
          "name": "stdout",
          "text": [
            "전역 에서 출력한 a 10\n",
            "f함수 내부에서 출력한 두번째 a 1000\n",
            "f함수 실행 후 출력한 a 10\n"
          ]
        }
      ]
    }
  ]
}