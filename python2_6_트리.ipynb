{
  "nbformat": 4,
  "nbformat_minor": 0,
  "metadata": {
    "colab": {
      "provenance": [],
      "authorship_tag": "ABX9TyOKnLxHiTK0W+PJLqTBszzx",
      "include_colab_link": true
    },
    "kernelspec": {
      "name": "python3",
      "display_name": "Python 3"
    },
    "language_info": {
      "name": "python"
    }
  },
  "cells": [
    {
      "cell_type": "markdown",
      "metadata": {
        "id": "view-in-github",
        "colab_type": "text"
      },
      "source": [
        "<a href=\"https://colab.research.google.com/github/juwoncozyboy/Data-Structure/blob/main/python2_6_%ED%8A%B8%EB%A6%AC.ipynb\" target=\"_parent\"><img src=\"https://colab.research.google.com/assets/colab-badge.svg\" alt=\"Open In Colab\"/></a>"
      ]
    },
    {
      "cell_type": "markdown",
      "source": [
        "# 이진탐색트리\n",
        "* 데이터를 탐색할 때 시간 복잡도가 0(log n)만큼 걸린다\n",
        "* 특정 노드를 기준으로 왼쪽 서브트리에는 해당 노드보다 작은 값들이, 오른쪽 서브트리에는 해당 노드보다 큰 값들이 저장되어야 하며, 중복되는 값은 저장될 수 없다"
      ],
      "metadata": {
        "id": "GBR9N8ITPu22"
      }
    },
    {
      "cell_type": "code",
      "source": [
        "class BST:\n",
        "  class node:\n",
        "    def __init__(self, data, left=None, right=None):\n",
        "      self.data = data\n",
        "      self.left = left\n",
        "      self.right = right\n",
        "\n",
        "  def __init__(self):\n",
        "    self.root = None\n",
        "\n",
        "  def add(self, data):\n",
        "    if self.root == None:\n",
        "      self.root = self.node(data)\n",
        "      return\n",
        "\n",
        "    curr = self.root\n",
        "    tmp = self.root\n",
        "    while curr != None:\n",
        "      tmp = curr\n",
        "      if data > curr.data:\n",
        "        curr=curr.right\n",
        "      elif data < curr.data:\n",
        "        curr= curr.left\n",
        "      else:\n",
        "        # data == curr.data\n",
        "        print('중복된 값 추가 실패!')\n",
        "        return\n",
        "\n",
        "    #while문이 끝나면 tmp에는 삽입할 위치 부모노드가 들어있다\n",
        "    newNode = self.node(data)\n",
        "    if data > tmp.data : tmp.right = newNode\n",
        "    elif data < tmp.data : tmp.left = newNode\n",
        "\n",
        "  # 재귀함수로 추가 구현하기\n",
        "  def reAdd(self, data, node):\n",
        "    if node != None:\n",
        "      if data > node.data:\n",
        "        node.right = self.reAdd(data, node.right)\n",
        "      elif data < node.data:\n",
        "        node.left = self.reAdd(data, node.left)\n",
        "    else:\n",
        "      #### newNode가 아닌 node\n",
        "      node = self.node(data)\n",
        "\n",
        "    return node\n",
        "\n",
        "  def add2(self, data):\n",
        "    self.root = self.reAdd(data, self.root)\n",
        "\n",
        "\n",
        "  # 너비우선탐색은 큐를 통해서 구현할 수 있다\n",
        "\n",
        "  # 출력하는 함수(깊이우선 탐색, 전위순회/ 자기자신방문 --> 왼쪽자식 --> 오른쪽자식)\n",
        "  # 재귀함수를 사용하지 않는다면 stack을 이용해서 구현\n",
        "  def preorder_item(self, node):\n",
        "    if node != None:\n",
        "      print(node.data, end = ' ')\n",
        "      self.preorder_item(node.left)\n",
        "      self.preorder_item(node.right)\n",
        "\n",
        "  def preorder(self):\n",
        "    self.preorder_item(self.root)\n",
        "    print()\n",
        "\n",
        "\n",
        "  # 중위순회\n",
        "  def inorder_item(self, node):\n",
        "    if node != None:\n",
        "      self.inorder_item(node.left)\n",
        "      print(node.data, end=' ')\n",
        "      self.inorder_item(node.right)\n",
        "\n",
        "  def inorder(self):\n",
        "    self.inorder_item(self.root)\n",
        "    print()\n",
        "\n",
        "  # 후위순회\n",
        "  def postorder_item(self, node):\n",
        "    if node != None:\n",
        "      self.postorder_item(node.left)\n",
        "      self.postorder_item(node.right)\n",
        "      print(node.data, end = ' ')\n",
        "\n",
        "  def postorder(self):\n",
        "    self.postorder_item(self.root)\n",
        "    print()\n",
        "\n",
        "  def remove(self, key):\n",
        "    #1. 비어있는트리에서 삭제 --> 실패\n",
        "    if self.root == None: return\n",
        "\n",
        "    # 삭제시킬 노드(target)와 그 부모노드(parent) 찾기\n",
        "    parent = self.root\n",
        "    target = self.root\n",
        "    while target != None and target.data != key:\n",
        "      parent = target\n",
        "      if key > target.data:\n",
        "        target = target.right\n",
        "      elif key < target.data:\n",
        "        target = target.left\n",
        "\n",
        "    # 만약 삭제시킬 요소를 찾지못하면 target에는 None이들어있음\n",
        "    if target == None: return\n",
        "\n",
        "    # 반복문이 끝났을 때 target에는 삭제시킬 노드, parent에는 그 노드의 부모노드\n",
        "    # 만약 삭제시킬 노드가 root노드라면 target == parent\n",
        "\n",
        "    # 삭제시킬 노드가 두개의 자식을 갖고 있을때\n",
        "    if target.left and target.right :\n",
        "      # 계승할 노드 찾기\n",
        "      precc = target.left # 계승할 노드\n",
        "      precc_parent = target # 계승할 노드의 부모노드\n",
        "      while precc.right != None:\n",
        "        precc_parent = precc\n",
        "        precc = precc.right\n",
        "\n",
        "      # while문이 끝나면 precc 에는 계승할 노드, precc_parent : 계승할 노드의 부모 노드가 들어있다\n",
        "      target.data = precc.data\n",
        "      if precc == precc_parent.right:\n",
        "        precc_parent.right = precc.left\n",
        "      else :\n",
        "        precc_parent.left = precc.left\n",
        "\n",
        "\n",
        "\n",
        "\n",
        "    # 삭제시킬 노드가 왼쪽 혹은 오른쪽 자식을 갖고 있다면\n",
        "    elif target.left or target.right:\n",
        "      # child에는 삭제할 노드의 왼쪽 자식이든 오른쪽 자식이든 존재하는 자식이 담기게 된다\n",
        "      child = target.left or target.right\n",
        "\n",
        "      # 삭제시킬 노드가 루트노드라면 자식이 루트가 된다\n",
        "      if parent == target:\n",
        "        self.root = child\n",
        "        return\n",
        "\n",
        "      if target == parent.left:\n",
        "        parent.left = child\n",
        "      else :\n",
        "        parent.right = child\n",
        "\n",
        "    # 삭제시킬 노드가 자식이 없을 때\n",
        "    else:\n",
        "      # 만약 삭제시킬 노드가 루트라면\n",
        "      if parent == target:\n",
        "        self.root = None\n",
        "        return\n",
        "\n",
        "      if target == parent.left:\n",
        "        parent.left = None\n",
        "\n",
        "      # target == parent.right:\n",
        "      else :\n",
        "        parent.right = None\n",
        "\n",
        "\n",
        "  # 재귀함수 삭제\n",
        "  def remove_item(self, key, node):\n",
        "    if node == None:\n",
        "      return None\n",
        "\n",
        "    if key > node.data:\n",
        "      node.right = self.remove_item(key, node.right)\n",
        "      return node\n",
        "    elif key < node.data:\n",
        "      node.left = self.remove_item(key, node.left)\n",
        "      return node\n",
        "\n",
        "    # key == node.data\n",
        "    else :\n",
        "      # node가 내가삭제시킬 node\n",
        "      # 자식이 두개인 경우\n",
        "      if node.left and node.right:\n",
        "        precc = self.getMax(node.left)\n",
        "        node.data = precc.data\n",
        "        node.left = self.remove_item(precc.data, node.left)\n",
        "        return node\n",
        "\n",
        "      elif node.left or node.right:\n",
        "        return node.left or node.right\n",
        "\n",
        "      # 자식이 없는 경우\n",
        "      else :\n",
        "        return None\n",
        "\n",
        "  # 재귀함수를 쉽게 사용하도록 감싸주는 함수(help 함수)\n",
        "  def remove2(self, key):\n",
        "    self.root = self.remove_item(key, self.root)\n",
        "\n",
        "  # 매개변수로 전달받은 node를 루트로 하는 트리로 부터 최댓값을 가지고 있는 노드를 찾는 함수\n",
        "  def getMax(self, node):\n",
        "    target = node\n",
        "    while target.right != None:\n",
        "      target = target.right\n",
        "\n",
        "    return target\n",
        "\n",
        "  # 요소를 찾으면 해당 요소를 찾았다고 출력하기(찾기 성공! , 15)\n",
        "  # 요소를 찾지 못하면 찾기 실패 출력 (반복문, 재귀함수)\n",
        "  def select(self, key):\n",
        "    node = self.root\n",
        "    while node != None:\n",
        "      if key > node.data :\n",
        "        node = node.right\n",
        "      elif key < node.data :\n",
        "        node = node.left\n",
        "      else :\n",
        "        #찾기 성공\n",
        "        return node\n",
        "\n",
        "    # 찾기 실패\n",
        "    return None\n",
        "\n",
        "  # 재귀 함수\n",
        "  def find_node(self, key, node):\n",
        "    if node == None:\n",
        "      return None\n",
        "\n",
        "    if key > node.data:\n",
        "      return self.find_node(key, node.right)\n",
        "    elif key < node.data:\n",
        "      return self.find_node(key, node.right)\n",
        "    else :\n",
        "      return node\n",
        "\n",
        "  def find(self, key):\n",
        "    return self.find_node(key, self.root)\n",
        "\n",
        "\n",
        "\n",
        "\n",
        "\n",
        "\n",
        "\n",
        "\n",
        "\n"
      ],
      "metadata": {
        "id": "q6UbrYHfPvG2"
      },
      "execution_count": null,
      "outputs": []
    },
    {
      "cell_type": "code",
      "source": [
        "tree = BST()\n",
        "tree.add(11)\n",
        "tree.add(20) #11의 오른쪽 자식이 20\n",
        "#tree.root = tree.reAdd(10, tree.root) ->add2가 이 역활을 한다\n",
        "tree.add2(10)\n",
        "#tree.preorder_item(tree.root)\n",
        "tree.preorder() #61번줄 바로 실행\n",
        "# 이진탐색트리에서 중위순회를 하면 오름차순으로 자료가 보인다\n",
        "tree.inorder()\n",
        "tree.postorder()"
      ],
      "metadata": {
        "id": "woyCNxBaUPad",
        "colab": {
          "base_uri": "https://localhost:8080/"
        },
        "outputId": "d5685815-a485-4e67-ac90-f8b2c6501f13"
      },
      "execution_count": null,
      "outputs": [
        {
          "output_type": "stream",
          "name": "stdout",
          "text": [
            "11 10 20 \n",
            "10 11 20 \n",
            "10 20 11 \n"
          ]
        }
      ]
    },
    {
      "cell_type": "markdown",
      "source": [
        "#재귀함수\n",
        "* 자기 자신을 정의하면서 자기 자신을 사용하는 함수"
      ],
      "metadata": {
        "id": "oy0eUvFvcMpW"
      }
    },
    {
      "cell_type": "code",
      "source": [
        "# 김주원을 n번 출력하는 함수\n",
        "def printName(n):\n",
        "  for i in range(n):\n",
        "    print('김주원')"
      ],
      "metadata": {
        "id": "Dg0Wlu5mcleL"
      },
      "execution_count": null,
      "outputs": []
    },
    {
      "cell_type": "code",
      "source": [
        "def reName(n): #재귀함수 사용\n",
        "  if n != 0:\n",
        "    print('김주원')\n",
        "    reName(n-1)\n",
        "\n"
      ],
      "metadata": {
        "id": "N7nUzACac3LY"
      },
      "execution_count": null,
      "outputs": []
    },
    {
      "cell_type": "code",
      "source": [
        "#1부터 n까지 총합 구하는 함수\n",
        "def getSum(n):\n",
        "  total = 0\n",
        "  for i in range(1, n+1):\n",
        "    total +=i\n",
        "\n",
        "  return total"
      ],
      "metadata": {
        "id": "X8lJRyRpeZ47"
      },
      "execution_count": null,
      "outputs": []
    },
    {
      "cell_type": "code",
      "source": [
        "def reSum(n):\n",
        "  if n  == 1:\n",
        "    return 1\n",
        "  return n + reSum(n-1)"
      ],
      "metadata": {
        "id": "LeWteWDBeu9c"
      },
      "execution_count": null,
      "outputs": []
    },
    {
      "cell_type": "code",
      "source": [
        "printName(5)\n",
        "print()\n",
        "reName(5)"
      ],
      "metadata": {
        "colab": {
          "base_uri": "https://localhost:8080/"
        },
        "id": "6xmXMiIdcxnz",
        "outputId": "f9b43ad3-291b-4c8c-88a3-10c93f1163e9"
      },
      "execution_count": null,
      "outputs": [
        {
          "output_type": "stream",
          "name": "stdout",
          "text": [
            "김주원\n",
            "김주원\n",
            "김주원\n",
            "김주원\n",
            "김주원\n",
            "\n",
            "김주원\n",
            "김주원\n",
            "김주원\n",
            "김주원\n",
            "김주원\n"
          ]
        }
      ]
    },
    {
      "cell_type": "markdown",
      "source": [
        "# 트리 中 이진탐색트리 中 균형이진탐색트리\n",
        "* 일반 이진탐색트리의 비대칭성(왼쪽자식 혹은 오른쪽 자식으로 치우쳐져있는 형태의 트리)을 해결하기 위한 트리\n",
        "* 만일 트리가 극단적으로 치우쳐져있다면 검색을 할 때 시간복잡도가 O(n)으로 리스트와 다를게 없어 진다.\n",
        "\n",
        "## AVL트리\n",
        "* 대표적인 균형이진탐색트리의 일종\n",
        "* 왼쪽 서브트리의 높이 hL(height of Left subtree)과 오른쪽 서브트리의 높이 hR(height of Right subtree)의 차이가 1 이하인 트리를 의미한다.\n",
        "* 이진탐색트리의특징(왼쪽서브트리는 다 자신보다 작고, 오른쪽은 자신보다 크고, 중복X)\n",
        "* 균형인수BF(Balance Factor)가 {-1 , 0 , 1}이 되도록 함으로써 트리의 균형을 유지시킨다\n",
        "\n",
        "### 정렬 방식\n",
        "* LL회전\n",
        "* RR회전\n",
        "* 왼쪽자식을 RR회전한 후, 자기자신을 LL회전\n",
        "* 오른쪽 자식을 LL회전한 후, 자기자신을 RR회전"
      ],
      "metadata": {
        "id": "QW2_fCf14Qhx"
      }
    },
    {
      "cell_type": "code",
      "source": [
        "class Node:\n",
        "  def __init__(self, data, height, left=None, right=None):\n",
        "    self.data = data\n",
        "    self.height = height\n",
        "    self.left = left\n",
        "    self.right = right\n",
        "\n",
        "class AVL:\n",
        "  def __init__(self):\n",
        "    self.root = None\n",
        "\n",
        "  # 해당 노드의 높이를 구해주는 함수(해당노드가 None인 경우에는 높이가 0이되도록)\n",
        "  @staticmethod\n",
        "  def getHeight(node):\n",
        "    if node == None:\n",
        "      return 0\n",
        "\n",
        "    return node.height\n",
        "\n",
        "  # 특정 노드의 balance factore를 구해주는 함수\n",
        "  @staticmethod\n",
        "  def getBf(node):\n",
        "    return AVL.getHeight(node.left) - AVL.getHeight(node.right)\n",
        "\n",
        "\n",
        "  # LL회전 함수\n",
        "  def rotateLL(self, node):\n",
        "    # node에는 내가 정렬시킬 대상 node\n",
        "    tmp = node.left\n",
        "    node.left = tmp.right\n",
        "    tmp.right = node\n",
        "    node.height = max(AVL.getHeight(node.left) , AVL.getHeight(node.right) ) + 1\n",
        "    tmp.height = max( AVL.getHeight(tmp.left) , AVL.getHeight(tmp.right)) + 1\n",
        "    return tmp\n",
        "\n",
        "  # RR회전 함수\n",
        "  def rotateRR(self, node):\n",
        "    tmp = node.right\n",
        "    node.right = tmp.left\n",
        "    tmp.left = node\n",
        "    node.height = max(AVL.getHeight( node.left ) , AVL.getHeight( node.right) ) + 1\n",
        "    tmp.height = max(AVL.getHeight(tmp.left), AVL.getHeight(tmp.right)) + 1\n",
        "    return tmp\n",
        "\n",
        "  # 자기자신 node를 기준으로 정렬해주는 함수\n",
        "  def balance(self, node):\n",
        "    BF = AVL.getBf(node)\n",
        "    # 왼쪽으로 치우쳐진 형태\n",
        "    if BF > 1 :\n",
        "      if AVL.getBf(node.left) < 0:\n",
        "        node.left = self.rotate_RR(node.left)\n",
        "      node = self.rotate_LL(node)\n",
        "\n",
        "    # 오른쪽으로 치우쳐진 형태\n",
        "    elif BF < -1:\n",
        "      if AVL.getBf(node.right) > 0:\n",
        "        node.right = self.rotate_LL(node.right)\n",
        "      node = self.rotate_RR(node)\n",
        "\n",
        "    return node\n",
        "\n",
        "\n",
        "\n",
        "  # 요소 추가\n",
        "  def add_item(self, node, data):\n",
        "    if node == None:\n",
        "      return Node(data, 1)\n",
        "\n",
        "    if data > node.data:\n",
        "      node.right = self.add_item(node.right, data)\n",
        "    elif data < node.data:\n",
        "      node.left = self.add_item(node.left, data)\n",
        "    node.height = max( AVL.getHeight(node.left), AVL.getHeight(node.right)) + 1\n",
        "    return self.balance(node)\n",
        "  #help 함수\n",
        "  def add(self, data):\n",
        "    self.root = self.add_item(self.root, data)\n"
      ],
      "metadata": {
        "id": "vwUhHAhP6WFN"
      },
      "execution_count": null,
      "outputs": []
    },
    {
      "cell_type": "markdown",
      "source": [
        "# 힙 Heap(히프)\n",
        "## 트리 中 이진트리 中 완전이진트리 中 힙\n",
        "* 최대힙\n",
        " * 부모의 크기가 자식보다 크거나 같은 구조\n",
        "* 최소힙\n",
        " * 부모의 크기가 자식보다 작거나 같은 구조\n",
        "\n",
        "* 완전 이진 트리여야 히프라고 이야기할 수 있다\n",
        "\n",
        "### 완전이진트리\n",
        "* 자식이 앞에서부터 공백 없이 채워진 형태의 트리\n",
        "\n",
        "* 파이썬은 이미 히프가 구현이 되어있다\n",
        "\n",
        "* 최대힙에서 삽입 연산은 우선 데이터를 추가한 뒤, 계속하여 부모랑 비교한 후에 부모보다 지금 추가한 데이터가 더 작다면 자리를 교체하고 추가한다.\n",
        "\n",
        "* 최대힙에서 삭제 연산은 가장 큰 데이터(루트데이터)가 삭제가 되며, 삭제된 후에 루트에 들어갈 요소를 찾아서 자리를 채워준다"
      ],
      "metadata": {
        "id": "t3egzBBugusM"
      }
    },
    {
      "cell_type": "code",
      "source": [
        "# C언어나 자밥는 용량이 있어야만 한다(용량없이 하려면 연결리스트)\n",
        "class MAxHeap:\n",
        "  def __init__(self):\n",
        "    self.li = [ None ]\n",
        "\n",
        "  # 추가\n",
        "  def heappush(self, data):\n",
        "    self.li.append(data)\n",
        "    idx = len(self.li) - 1\n",
        "    while idx != 1:\n",
        "      if self.li[idx] > self.li[idx // 2]:\n",
        "        self.li[idx], self.li[idx//2] = self.li[idx//2], self.li[idx]\n",
        "      else:\n",
        "        return\n",
        "\n",
        "      idx = idx // 2\n",
        "\n",
        "  #삭제\n",
        "  def heappop(self):\n",
        "    if len(self.li) == 1 : return\n",
        "\n",
        "    #삭제될 요소 : self.li[1]\n",
        "    target = self.li[1]\n",
        "\n",
        "    # 해당 트리의 맨 오른쪽 아래 자식요소\n",
        "    self.li[1] =  self.li.pop()\n",
        "\n",
        "    #루트에 있는 요소를 자식과 크기 비교를 한 후\n",
        "    #자식 중 더 큰 요소와 자리 교체 하기\n",
        "    idx = 1\n",
        "    while idx*2 < len(self.li) - 1:\n",
        "      #1. 비교하려는 노드의 왼쪽 자식만 있는 경우\n",
        "      #2. 비교하려는 노드의 양쪽 자식이 있는데\n",
        "      #  2-1 양쪽 자식 중에서 왼쪽이 더 큰 경우 왼쪽과 swap\n",
        "      #  2-2 양쪽 자식 중에서 오른쪽이 더 큰 경우 오른쪽과 swap\n",
        "      childIdx = idx*2 if ((idx*2 + 1) > len(self.li) - 1) or self.li[idx*2] > self.li[idx*2 + 1] else idx*2+1\n",
        "\n",
        "      if self.li[idx] < self.li[childIdx] :\n",
        "        self.li[idx], self.li[chjildIdx] = self.li[childIdx], self.li[idx]\n",
        "\n",
        "      idx = childIdx\n",
        "    # while 문이 끝나면 삭제된 요소를 return\n",
        "    return target\n"
      ],
      "metadata": {
        "id": "mslZdyfboBJt"
      },
      "execution_count": null,
      "outputs": []
    },
    {
      "cell_type": "code",
      "source": [
        "myHeap = MaxHeap()\n",
        "myHeap.heappush(50)\n",
        "myHeap.heappush(90)\n",
        "print(myHeap.li)"
      ],
      "metadata": {
        "colab": {
          "base_uri": "https://localhost:8080/"
        },
        "id": "XbOfMsruo-UJ",
        "outputId": "eab4d9a6-2465-4e73-de8a-93ab78b24743"
      },
      "execution_count": null,
      "outputs": [
        {
          "output_type": "stream",
          "name": "stdout",
          "text": [
            "[None, 90, 50]\n"
          ]
        }
      ]
    },
    {
      "cell_type": "code",
      "source": [
        "import heapq\n",
        "\n",
        "myHeap = []\n",
        "heapq.heappush(myHeap, 50)\n",
        "heapq.heappush(myHeap, 90)\n",
        "print(myHeap)"
      ],
      "metadata": {
        "colab": {
          "base_uri": "https://localhost:8080/"
        },
        "id": "O05u98Ab8s_m",
        "outputId": "0726f243-5bf5-4ba9-85d4-51d837a24693"
      },
      "execution_count": null,
      "outputs": [
        {
          "output_type": "stream",
          "name": "stdout",
          "text": [
            "[50, 90]\n"
          ]
        }
      ]
    },
    {
      "cell_type": "markdown",
      "source": [
        "# 리스트 컴프리헨션\n",
        "* 리스트를 쉽게 만드는 방법\n"
      ],
      "metadata": {
        "id": "uP5_kN00TMdk"
      }
    },
    {
      "cell_type": "code",
      "source": [
        "# 10이 10개 요소로 들어있는 리스트 만들어주세요\n",
        "li = []\n",
        "for i in range(10):\n",
        "  li.append(10)\n",
        "\n",
        "print(li)"
      ],
      "metadata": {
        "colab": {
          "base_uri": "https://localhost:8080/"
        },
        "id": "JwOGspuKTWt1",
        "outputId": "3835e7a3-ddb8-4396-9617-af2fff576c87"
      },
      "execution_count": null,
      "outputs": [
        {
          "output_type": "stream",
          "name": "stdout",
          "text": [
            "[10, 10, 10, 10, 10, 10, 10, 10, 10, 10]\n"
          ]
        }
      ]
    },
    {
      "cell_type": "code",
      "source": [
        "li = [10 for i in range(10)]\n",
        "print(li)"
      ],
      "metadata": {
        "colab": {
          "base_uri": "https://localhost:8080/"
        },
        "id": "4w6S7CgVT9mf",
        "outputId": "bac49cf8-ec24-4c7a-dcab-d3cebfd1b3b9"
      },
      "execution_count": null,
      "outputs": [
        {
          "output_type": "stream",
          "name": "stdout",
          "text": [
            "[10, 10, 10, 10, 10, 10, 10, 10, 10, 10]\n"
          ]
        }
      ]
    },
    {
      "cell_type": "code",
      "source": [
        "li = []\n",
        "for i in range(10):\n",
        "  li.append(i)\n",
        "\n",
        "print(li)"
      ],
      "metadata": {
        "colab": {
          "base_uri": "https://localhost:8080/"
        },
        "id": "s5T-_38kUGJ1",
        "outputId": "0c43d458-99df-4f23-cac2-61f7cacc1ab0"
      },
      "execution_count": null,
      "outputs": [
        {
          "output_type": "stream",
          "name": "stdout",
          "text": [
            "[0, 1, 2, 3, 4, 5, 6, 7, 8, 9]\n"
          ]
        }
      ]
    },
    {
      "cell_type": "code",
      "source": [
        "li=[('김주원',i) for i in range(10)]\n",
        "print(li)"
      ],
      "metadata": {
        "colab": {
          "base_uri": "https://localhost:8080/"
        },
        "id": "jugsnkTAUXcG",
        "outputId": "49ca99c1-e244-4f5f-c7f8-21c5ce826784"
      },
      "execution_count": null,
      "outputs": [
        {
          "output_type": "stream",
          "name": "stdout",
          "text": [
            "[('김주원', 0), ('김주원', 1), ('김주원', 2), ('김주원', 3), ('김주원', 4), ('김주원', 5), ('김주원', 6), ('김주원', 7), ('김주원', 8), ('김주원', 9)]\n"
          ]
        }
      ]
    },
    {
      "cell_type": "code",
      "source": [
        "priorities = [1,2,1,1,3,5,1]\n",
        "\n",
        "# {(1,0),(2,1)}\n",
        "li = []\n",
        "for i in range(len(priorities)):\n",
        "  li.append((priorities[i],i))\n",
        "\n",
        "print(li)\n",
        "\n",
        "li = [(priorities[i],i) for i in range(len(priorities))]\n",
        "print(li)"
      ],
      "metadata": {
        "colab": {
          "base_uri": "https://localhost:8080/"
        },
        "id": "HRX8WpbuUtBE",
        "outputId": "3263e9b7-76a2-4ee1-bf7a-51a29d6235f8"
      },
      "execution_count": null,
      "outputs": [
        {
          "output_type": "stream",
          "name": "stdout",
          "text": [
            "[(1, 0), (2, 1), (1, 2), (1, 3), (3, 4), (5, 5), (1, 6)]\n",
            "[(1, 0), (2, 1), (1, 2), (1, 3), (3, 4), (5, 5), (1, 6)]\n"
          ]
        }
      ]
    },
    {
      "cell_type": "code",
      "source": [
        "names = ['봉준호','손흥민','제이팍']\n",
        "\n",
        "for i in enumerate(names):\n",
        "  print(i)"
      ],
      "metadata": {
        "id": "vBdvr2tGV6nG"
      },
      "execution_count": null,
      "outputs": []
    },
    {
      "cell_type": "code",
      "source": [
        "# 리스트를 큐처럼 사용\n",
        "\n",
        "def solution(priorities, location):\n",
        "  q = priorities\n",
        "  cnt = 0\n",
        "  while len(q) != 0:\n",
        "      maxNum = q[0][1]\n",
        "      tmp = q.pop(0)\n",
        "      q.pop(0)\n",
        "      location -= 1\n",
        "      if tmp != maxNum:\n",
        "          q.append(tmp)\n",
        "          if location < 0:\n",
        "              location = len(q) - 1\n",
        "          else:\n",
        "              cnt +=1\n",
        "              if tmp[0] == location:\n",
        "                  break\n",
        "  return cnt"
      ],
      "metadata": {
        "id": "sgLhBntxXXrp"
      },
      "execution_count": null,
      "outputs": []
    },
    {
      "cell_type": "code",
      "source": [
        "solution([1,1,9,1,1], 1)"
      ],
      "metadata": {
        "colab": {
          "base_uri": "https://localhost:8080/"
        },
        "id": "iWBKB2fMXsrF",
        "outputId": "d32c76a2-2c0c-4187-fe4b-5daac5e0a497"
      },
      "execution_count": null,
      "outputs": [
        {
          "output_type": "execute_result",
          "data": {
            "text/plain": [
              "1"
            ]
          },
          "metadata": {},
          "execution_count": 28
        }
      ]
    }
  ]
}