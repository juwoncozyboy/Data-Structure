{
  "nbformat": 4,
  "nbformat_minor": 0,
  "metadata": {
    "colab": {
      "provenance": [],
      "authorship_tag": "ABX9TyNTQYAzikNoBVUmTbrbJCfJ",
      "include_colab_link": true
    },
    "kernelspec": {
      "name": "python3",
      "display_name": "Python 3"
    },
    "language_info": {
      "name": "python"
    }
  },
  "cells": [
    {
      "cell_type": "markdown",
      "metadata": {
        "id": "view-in-github",
        "colab_type": "text"
      },
      "source": [
        "<a href=\"https://colab.research.google.com/github/juwoncozyboy/Data-Structure/blob/main/python2_5_%EC%8A%A4%ED%83%9D.ipynb\" target=\"_parent\"><img src=\"https://colab.research.google.com/assets/colab-badge.svg\" alt=\"Open In Colab\"/></a>"
      ]
    },
    {
      "cell_type": "markdown",
      "source": [
        "# 1. 스택\n",
        "* 여러개의 값을 저장할 수 있다\n",
        "* 저장할 때 뒤쪽에 차례로 저장이 된다\n",
        "* 삭제할때는 가장 마지막에 저장된 요소 부터 삭제된다\n",
        "* push() : 요소 삽입\n",
        "* pop() : 요소 삭제\n",
        "* peek() : 삭제될 요소 조회하기\n",
        "* clear() : 스택 비우기"
      ],
      "metadata": {
        "id": "xF8xY9m803DR"
      }
    },
    {
      "cell_type": "code",
      "source": [
        "class stack :\n",
        "  def __init__(self, max):\n",
        "    self.li = [None for i in range(max)]\n",
        "    self.top = 0\n",
        "\n",
        "  def isEmpty(self):\n",
        "    return self.top == 0\n",
        "\n",
        "  def isFull(self):\n",
        "    return len(self.li) == self.top\n",
        "\n",
        "  def push(self, element):\n",
        "    if not self.isFull():\n",
        "      self.li[self.top] = element\n",
        "      self.top += 1\n",
        "\n",
        "  def pop(self):\n",
        "    if not self.isEmpty():\n",
        "      self.top -= 1\n",
        "      return self.li[self.top]\n",
        "\n",
        "  def peek(self):\n",
        "    if not self.isEmpty():\n",
        "      return self.li[self.top - 1]\n",
        "\n",
        "  def clear(self):\n",
        "    self.top = 0\n",
        "\n",
        "  def show(self):\n",
        "    for i in range(self.top):\n",
        "      print(self.li[i] , end = ' ')\n",
        "    print()"
      ],
      "metadata": {
        "id": "4sf1FPDN06Up"
      },
      "execution_count": null,
      "outputs": []
    },
    {
      "cell_type": "code",
      "source": [
        "a = stack(5)\n",
        "\n",
        "a.push(10)\n",
        "a.push(20)\n",
        "a.push(30)\n",
        "a.show()\n",
        "a.pop()\n",
        "a.show()"
      ],
      "metadata": {
        "colab": {
          "base_uri": "https://localhost:8080/"
        },
        "id": "0awmN2mv0-xR",
        "outputId": "75d5d2e5-43d2-4b46-af52-a2ebc9695f5c"
      },
      "execution_count": null,
      "outputs": [
        {
          "output_type": "stream",
          "name": "stdout",
          "text": [
            "10 20 30 \n",
            "10 20 \n"
          ]
        }
      ]
    },
    {
      "cell_type": "code",
      "source": [
        "# 연산자의 우선순위를 계산하는 함수\n",
        "def prec(op):\n",
        "  if op in '+-':\n",
        "    return 0\n",
        "\n",
        "  if op in '*/':\n",
        "    return 1\n",
        "\n",
        "  return -1 # ( 의 우선순위는 -1로 계산\n",
        "\n",
        "\n",
        "# 계산기 만든는데 사용할 함수들\n",
        "# 중위표현식을 후위표현식으로 변경하는 함수\n",
        "def in2post(exp):\n",
        "  # exp에는 중위표현식이 들어있다 ex) '1 + 17 * 2 / 3' --> ['1', '+', '17', '*', '2', '/', '3']\n",
        "  tokens = exp.split(' ') # ['1', '+', '17', '*', '2', '/', '3']\n",
        "  res = [] # 최종적인 결과를 담아줄 리스트\n",
        "  tmp = stack(50) # 연산자들을 담아줄 stack\n",
        "\n",
        "\n",
        "  for a in tokens:\n",
        "    # 현재 보고있는 요소가 연산자 중에 하나라면\n",
        "    if a in '+-*/':\n",
        "\n",
        "      if not tmp.isEmpty():\n",
        "        top = tmp.peek()\n",
        "\n",
        "        while not tmp.isEmpty() and prec(a) <= prec(top):\n",
        "          res.append(tmp.pop())\n",
        "          top = tmp.peek()\n",
        "\n",
        "      tmp.push(a)\n",
        "    elif a == '(':\n",
        "      tmp.push(a)\n",
        "    elif a == ')':\n",
        "      top = tmp.pop()\n",
        "      while top != '(':\n",
        "        res.append(top)\n",
        "        top = tmp.pop()\n",
        "    # 현재 보고있는 요소가 숫자라면\n",
        "    else:\n",
        "      res.append(a)\n",
        "\n",
        "  # stack에 남아있던연산자를 차례로 꺼내서 res에 넣어준다\n",
        "  while not tmp.isEmpty():\n",
        "    res.append(tmp.pop())\n",
        "\n",
        "  return res\n",
        "\n",
        "# 후위표현식을 계산하는 함수\n",
        "def calc(exp):\n",
        "  # exp에는 후위표현식이 들어있다 ex) ['1', '2', '5', '*', '+']\n",
        "  tmp = stack(50)\n",
        "  for a in exp:\n",
        "    if a in '+-*/':\n",
        "      num2 = tmp.pop()\n",
        "      num1 = tmp.pop()\n",
        "      if a == '+':\n",
        "        res = int(num1) + int(num2)\n",
        "      elif a == '-':\n",
        "        res = int(num1) - int(num2)\n",
        "      elif a == '*':\n",
        "        res = int(num1) * int(num2)\n",
        "      elif a == '/':\n",
        "        res = int(num1) / int(num2)\n",
        "      tmp.push(res)\n",
        "    else:\n",
        "      tmp.push(a)\n",
        "\n",
        "  return tmp.pop()\n",
        "\n",
        "\n"
      ],
      "metadata": {
        "id": "9Yu24TZNDNMH"
      },
      "execution_count": null,
      "outputs": []
    },
    {
      "cell_type": "code",
      "source": [
        "# print(in2post('1 * ( 2 + 3 )'))\n",
        "\n",
        "\n",
        "\n",
        "exp = input('수식을 입력하세요 >> ')\n",
        "res = in2post(exp)\n",
        "print('후위표현식으로 바꾼 결과 : ', res)\n",
        "num = calc(res)\n",
        "print('계산 결과 :', num)"
      ],
      "metadata": {
        "colab": {
          "base_uri": "https://localhost:8080/"
        },
        "id": "2nG_Ch0A1ERR",
        "outputId": "1961a716-3ba3-4955-8287-4039b1c61be7"
      },
      "execution_count": null,
      "outputs": [
        {
          "output_type": "stream",
          "name": "stdout",
          "text": [
            "수식을 입력하세요 >> 3 - 2 * 7\n",
            "후위표현식으로 바꾼 결과 :  ['3', '2', '7', '*', '-']\n",
            "계산 결과 : -11\n"
          ]
        }
      ]
    },
    {
      "cell_type": "code",
      "source": [
        "# eval()\n",
        "eval('3/2-3')"
      ],
      "metadata": {
        "colab": {
          "base_uri": "https://localhost:8080/"
        },
        "id": "uuAEgRZB1JtK",
        "outputId": "f196d838-f527-42e5-e047-27a702733d79"
      },
      "execution_count": null,
      "outputs": [
        {
          "output_type": "execute_result",
          "data": {
            "text/plain": [
              "-1.5"
            ]
          },
          "metadata": {},
          "execution_count": 16
        }
      ]
    }
  ]
}