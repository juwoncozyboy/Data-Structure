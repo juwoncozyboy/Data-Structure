{
  "nbformat": 4,
  "nbformat_minor": 0,
  "metadata": {
    "colab": {
      "provenance": [],
      "authorship_tag": "ABX9TyP5V/DMj+HcP4uKb6Mz61Yr",
      "include_colab_link": true
    },
    "kernelspec": {
      "name": "python3",
      "display_name": "Python 3"
    },
    "language_info": {
      "name": "python"
    }
  },
  "cells": [
    {
      "cell_type": "markdown",
      "metadata": {
        "id": "view-in-github",
        "colab_type": "text"
      },
      "source": [
        "<a href=\"https://colab.research.google.com/github/juwoncozyboy/Data-Structure/blob/main/python2_3_%EB%A6%AC%EC%8A%A4%ED%8A%B8.ipynb\" target=\"_parent\"><img src=\"https://colab.research.google.com/assets/colab-badge.svg\" alt=\"Open In Colab\"/></a>"
      ]
    },
    {
      "cell_type": "markdown",
      "source": [
        "# 1. 리스트\n",
        "* 여러개의 값을 저장하고 싶다..\n",
        "* 새롭게 값을 추가도 하고싶다\n",
        "* 이미 저장되어 있는 값 중 하나를 삭제하고 싶다\n",
        "* 순서가 있게 저장하고 싶다"
      ],
      "metadata": {
        "id": "5kk-bT-yyYWs"
      }
    },
    {
      "cell_type": "markdown",
      "source": [
        "#2. 리스트 종류\n",
        "* 선형(linear) 리스트\n",
        "  * 일직선 상에 여러개의 값을 저장하도록 구현\n",
        "  * 기본적으로 파이썬에서 구현된 리스트\n",
        "*연결(linked) 리스트\n",
        "  * 연결되는 방식으로 구현"
      ],
      "metadata": {
        "id": "Pb4zzkwvzGDl"
      }
    },
    {
      "cell_type": "markdown",
      "source": [
        "#3. 연결리스트\n",
        "  * 메모리 상에는 떨어져서 저장이 되지만, 각각의 node 속에는 다음 요소가 어디 저장되어있는지 위치 정ㅂ조가 들어있기 때문에 순서 정보를 저장해줄 수 있다\n",
        "  * 마치 목욕탕 캐비넷 4개받고, 5번캐비넷에 첫번째 값 저장하고, 다음 캐비넷 열쇠(1번) 저장\n",
        "  --> 1번 캐비넷에는 두번째 값 저장하고,  다음 캐비넷 열쇠(6번)-->6번 캐비넷에 세번째 값 저장하고, 다음 캐비넷열쇠(15번) --> 15번 캐비넷에 네번째 값, 다음캐비넷 열쇠없음(None)"
      ],
      "metadata": {
        "id": "RCrNnV762tD2"
      }
    },
    {
      "cell_type": "code",
      "source": [
        "class linkedList: #클래스만듬 여러개의 값 저장\n",
        "  class node: #내부 클래스, linkedList 클래스 속에서만 사용이 가능하다\n",
        "    def __init__(self, data, next=None): #들여쓰기 조심\n",
        "      self.data = data\n",
        "      self.next = None\n",
        "\n",
        "  def __init__(self):\n",
        "    #self.length = 0 #요소 0개\n",
        "    self.head = None #첫번째 node의 위치를 저장해주기 위해서 만든 변수\n",
        "\n",
        "  def show(self):\n",
        "    curr = self.head #첫번째 노드가curr에 담김\n",
        "\n",
        "    while curr != None:\n",
        "      print(curr.data, end='->')\n",
        "      curr = curr.next\n",
        "    #for i in range(self.length):\n",
        "     # print(curr.data, end='->')\n",
        "      #curr = curr.next\n",
        "    print()\n",
        "\n",
        "  # 리스트의 첫번째 자리에 요소를 추가하하는 함수\n",
        "  def insertFisrt(self, data):\n",
        "    newNode = self.node(data, self.head)\n",
        "    self.head = newNode\n",
        "\n",
        "\n",
        "\n",
        " #리스트에 요소를 마지막에 추가하는 함수\n",
        "  def append(self, data):\n",
        "    #추가할 노드 만들기\n",
        "    newNode = self.node(data)\n",
        "    #비어있는 리스트에서 append를 실행할때\n",
        "    if self.head == None:\n",
        "      self.head = newNode\n",
        "      return\n",
        "\n",
        "\n",
        "\n",
        "    #원래 기존의 마지막 노드 찾기\n",
        "    curr = self.head\n",
        "    while curr.next != None:\n",
        "      curr = curr.next\n",
        "\n",
        "      #curr에는 마지막 노드가 들어있다\n",
        "      curr.next = newNode\n",
        "\n",
        "  #x특정 위치에다 요소를 삽입하는 함수\n",
        "  def insert(self, idx, data):\n",
        "    # 만일 첫 번째 위치에 삽입하는 경우라면\n",
        "    if idx == 0:\n",
        "      newNode = self.node(data, self.head)\n",
        "      self.head = newNode\n",
        "      return\n",
        "\n",
        "    curr = self.head\n",
        "    for i in range(idx-1):\n",
        "      curr = curr.next\n",
        "    # curr에는 내가 삽입할 위치 이전 노드가 들어있다\n",
        "    # print(curr.data)\n",
        "\n",
        "    newNode = self.node(data, curr.next)\n",
        "    curr.next = newNode\n",
        "\n",
        "    # 요소 삭제\n",
        "    #첫번째 요소 삭제\n",
        "  def removeFisrt(self):\n",
        "      targetNode = self.head\n",
        "      self.head = targetNode.next\n",
        "      tmp = targetNode.data\n",
        "      del targetNode\n",
        "      return tmp\n",
        "\n",
        "    #마지막 요소 삭제\n",
        "  def removeLast(self):\n",
        "    #만일 요소가 한개라면\n",
        "    if self.head.next == None:\n",
        "      #첫번째요소 삭제하는 코드 실행\n",
        "      return self.removeFirst()\n",
        "      #삭제하기 이전 노드 찾기\n",
        "      #삭제할 노드 : 마지막 노드\n",
        "      #삭제하기 이전 노드 : 마지막 전 노드\n",
        "      curr = self.head\n",
        "      while curr.next.next != None:\n",
        "        curr = curr.next\n",
        "      #while문 끝나고 curr에는 삭제하기 이전 노드\n",
        "      tmp = curr.next.data\n",
        "      del curr.next\n",
        "      curr.next = None\n",
        "      return tmp\n",
        "    #인덱스번호로 삭제\n",
        "    def remove(self, idx):\n",
        "      if idx == 0:\n",
        "       return self.removeFirst()\n",
        "      # 삭제할 위치 이전 노드 찾기\n",
        "      curr = self.head\n",
        "      for i in range(idx-1):\n",
        "        curr = curr.next\n",
        "        #반복문이 끝났을 때 curr에는 삭제할 위치 이전 노드\n",
        "        targetNode = curr.next\n",
        "        curr.next = targetNode.next\n",
        "        tmp = targetNode.data\n",
        "        del targetNode\n",
        "        return tmp\n",
        "\n",
        "  # 요소 검색\n",
        "  def get(self, idx):\n",
        "    curr = self.head\n",
        "    for i in range(idx):\n",
        "      curr = curr.next\n",
        "\n",
        "    # 반복문 끝나면 해당 인덱스에 위치한 노드가 curr에 들어있음\n",
        "    return curr.data\n",
        "\n",
        "\n",
        "  def __getitem__(self, idx):\n",
        "    curr = self.head\n",
        "    for i in range(idx):\n",
        "      curr = curr.next\n",
        "\n",
        "    # 반복문 끝나면 해당 인덱스에 위치한 노드가 curr에 들어있음\n",
        "    return curr.data\n",
        "\n",
        "  def update(self, idx, data):\n",
        "    curr = self.head\n",
        "    for i in range(idx):\n",
        "      curr = curr.next\n",
        "\n",
        "    curr.data = data\n",
        "\n",
        "  def __len__(self):\n",
        "    curr = self.head\n",
        "    cnt = 0\n",
        "    while curr != None:\n",
        "      curr = curr.next\n",
        "      cnt += 1\n",
        "    return cnt\n",
        "\n",
        "    #print(curr.data)\n",
        "    #반복문으로 내가 삽입할 위치 이전 노드 찾기\n",
        "\n",
        "    #curr에는 내가 삽입할 위치 이전 노드가 들어있다\n",
        "\n"
      ],
      "metadata": {
        "id": "K3LfLGfW3hWG"
      },
      "execution_count": null,
      "outputs": []
    },
    {
      "cell_type": "code",
      "source": [
        "a = linkedList()\n",
        "\n",
        "a.insertFirst(30)\n",
        "a.insertFirst(20)\n",
        "a.show()\n",
        "a.append(50)\n",
        "a.show()\n",
        "a.insert(2, 100)\n",
        "a.show()\n",
        "\n",
        "# a.removeFirst() + 50\n",
        "print('삭제된값:', a.removeFirst())\n",
        "a.show()\n",
        "\n",
        "# a[2]\n",
        "print(a.get(1))\n",
        "print(a[2])\n",
        "\n",
        "a.update(2, -500)\n",
        "a.show()\n",
        "\n",
        "print(len(a))"
      ],
      "metadata": {
        "colab": {
          "base_uri": "https://localhost:8080/"
        },
        "id": "GMNZ8s_O32hc",
        "outputId": "63bc48e1-1425-419c-ca7c-e10a54dc06ea"
      },
      "execution_count": null,
      "outputs": [
        {
          "output_type": "stream",
          "name": "stdout",
          "text": [
            "20->30->\n",
            "20->30->50->\n",
            "20->30->100->50->\n",
            "삭제된값: 20\n",
            "30->100->50->\n",
            "100\n",
            "50\n",
            "30->100->-500->\n",
            "3\n"
          ]
        }
      ]
    },
    {
      "cell_type": "markdown",
      "source": [
        "#4. 효율적 알고리즘이란?\n",
        "* 시간이 적게 걸린다 : 시간복잡도가 좋다\n",
        "* 메모리를 적게 차지한다 : 공간복잡도가 좋다\n",
        "\n",
        "#5. 시간복잡도의 측정 방법\n",
        "* 가장 최고의 시간, 가장 최악의 시간, 평균적인 시간...\n",
        "* 가장 최악의 시간을 계산하는 방법 : 적어도 이 시간이 지나면 완료된다\n",
        "* Big-0 표기법"
      ],
      "metadata": {
        "id": "Tu5GUUPSi1ER"
      }
    }
  ]
}